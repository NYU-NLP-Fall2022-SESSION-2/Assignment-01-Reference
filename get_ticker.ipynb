{
 "cells": [
  {
   "cell_type": "code",
   "execution_count": 1,
   "metadata": {},
   "outputs": [],
   "source": [
    "import nltk\n",
    "import numpy as np\n",
    "import pandas as pd\n",
    "import pickle\n",
    "import pprint\n",
    "import project_helper\n",
    "import sys\n",
    "from sec_edgar_downloader import Downloader\n",
    "from tqdm import tqdm\n",
    "import wrds"
   ]
  },
  {
   "cell_type": "code",
   "execution_count": null,
   "metadata": {},
   "outputs": [],
   "source": [
    "###################\n",
    "# Connect to WRDS #\n",
    "###################\n",
    "conn=wrds.Connection()"
   ]
  },
  {
   "cell_type": "code",
   "execution_count": null,
   "metadata": {},
   "outputs": [],
   "source": [
    "### Get S&P500 Index Membership from CRSP\n",
    "### I opt for the monthly frequency of the data, \n",
    "### but one can choose to work with crsp.dsp500list \n",
    "### if more precise date range is needed.\n",
    "\n",
    "sp500 = conn.raw_sql(\"\"\"\n",
    "                        select a.*, b.date, b.ret\n",
    "                        from crsp.dsp500list as a,\n",
    "                        crsp.dsf as b\n",
    "                        where a.permno=b.permno\n",
    "                        and b.date >= a.start and b.date<= a.ending\n",
    "                        and b.date>='01/01/2020'\n",
    "                        and b.date<='12/31/2021'\n",
    "                        order by date;\n",
    "                        \"\"\", date_cols=['start', 'ending', 'date'])\n"
   ]
  },
  {
   "cell_type": "code",
   "execution_count": null,
   "metadata": {},
   "outputs": [],
   "source": [
    "### Add Other Company Identifiers from CRSP.MSENAMES\n",
    "### - You don't need this step if only PERMNO is required\n",
    "### - This step aims to add TICKER, SHRCD, EXCHCD and etc. \n",
    "\n",
    "mse = conn.raw_sql(\"\"\"\n",
    "                        select comnam, ncusip, namedt, nameendt, \n",
    "                        permno, shrcd, exchcd, hsiccd, ticker\n",
    "                        from crsp.msenames\n",
    "                        \"\"\", date_cols=['namedt', 'nameendt'])\n",
    "\n",
    "# if nameendt is missing then set to today date\n",
    "mse['nameendt']=mse['nameendt'].fillna(pd.to_datetime('today'))\n",
    "\n",
    "# Merge with SP500 data\n",
    "sp500_full = pd.merge(sp500, mse, how = 'left', on = 'permno')\n",
    "\n",
    "# Impose the date range restrictions\n",
    "sp500_full = sp500_full.loc[(sp500_full.date>=sp500_full.namedt) \\\n",
    "                            & (sp500_full.date<=sp500_full.nameendt)]\n",
    "\n",
    "\n",
    "### Add Other Company Identifiers from CRSP.MSENAMES\n",
    "### - You don't need this step if only PERMNO is required\n",
    "### - This step aims to add TICKER, SHRCD, EXCHCD and etc. \n",
    "\n",
    "mse = conn.raw_sql(\"\"\"\n",
    "                        select comnam, ncusip, namedt, nameendt, \n",
    "                        permno, shrcd, exchcd, hsiccd, ticker\n",
    "                        from crsp.msenames\n",
    "                        \"\"\", date_cols=['namedt', 'nameendt'])\n",
    "\n",
    "# if nameendt is missing then set to today date\n",
    "mse['nameendt']=mse['nameendt'].fillna(pd.to_datetime('today'))\n",
    "\n",
    "# Merge with SP500 data\n",
    "sp500_full = pd.merge(sp500, mse, how = 'left', on = 'permno')\n",
    "\n",
    "# Impose the date range restrictions\n",
    "sp500_full = sp500_full.loc[(sp500_full.date>=sp500_full.namedt) \\\n",
    "                            & (sp500_full.date<=sp500_full.nameendt)]\n",
    "\n",
    "\n",
    "### Add Compustat Identifiers\n",
    "### - Link with Compustat's GVKEY and IID if need to work with \n",
    "###   fundamental data\n",
    "### - Linkage is done through crsp.ccmxpf_linktable\n",
    "\n",
    "ccm=conn.raw_sql(\"\"\"\n",
    "                  select gvkey, liid as iid, lpermno as permno,\n",
    "                  linktype, linkprim, linkdt, linkenddt\n",
    "                  from crsp.ccmxpf_linktable\n",
    "                  where substr(linktype,1,1)='L'\n",
    "                  and (linkprim ='C' or linkprim='P')\n",
    "                  \"\"\", date_cols=['linkdt', 'linkenddt'])\n",
    "\n",
    "# if linkenddt is missing then set to today date\n",
    "ccm['linkenddt']=ccm['linkenddt'].fillna(pd.to_datetime('today'))\n",
    "\n",
    "# Merge the CCM data with S&P500 data\n",
    "# First just link by matching PERMNO\n",
    "sp500ccm = pd.merge(sp500_full, ccm, how='left', on=['permno'])\n",
    "\n",
    "# Then set link date bounds\n",
    "sp500ccm = sp500ccm.loc[(sp500ccm['date']>=sp500ccm['linkdt'])\\\n",
    "                        &(sp500ccm['date']<=sp500ccm['linkenddt'])]\n",
    "\n",
    "# Rearrange columns for final output\n",
    "\n",
    "sp500ccm = sp500ccm.drop(columns=['namedt', 'nameendt', 'linktype', \\\n",
    "                                  'linkprim', 'linkdt', 'linkenddt'])\n",
    "sp500ccm = sp500ccm[['date', 'permno', 'comnam', 'ncusip',\\\n",
    "                     'shrcd', 'exchcd', 'hsiccd', 'ticker', \\\n",
    "                     'gvkey', 'iid', 'start', 'ending', 'ret']]\n",
    "\n",
    "\n",
    "### Add CIKs and Link with SEC Index Files using CIK\n",
    "\n",
    "names = conn.raw_sql(\"\"\" select gvkey, cik, sic, naics, gind, gsubind from comp.names \"\"\")\n",
    "\n",
    "# Merge sp500 constituents table with names table\n",
    "sp500cik = pd.merge(sp500ccm, names, on='gvkey',  how='left')\n",
    "sp500cik.head()"
   ]
  },
  {
   "cell_type": "code",
   "execution_count": null,
   "metadata": {},
   "outputs": [],
   "source": [
    "sp500cik.to_csv('/Users/juntao/project_5/sp500.csv')"
   ]
  },
  {
   "cell_type": "code",
   "execution_count": null,
   "metadata": {},
   "outputs": [],
   "source": [
    "tickers=dict([(i,str(a)) for i, a in zip(sp500cik.ticker, sp500cik.cik)])"
   ]
  },
  {
   "cell_type": "code",
   "execution_count": null,
   "metadata": {},
   "outputs": [],
   "source": [
    "tickers = pd.DataFrame.from_dict(tickers, orient='index', columns=['cik'])\n",
    "tickers.head()"
   ]
  }
 ],
 "metadata": {
  "kernelspec": {
   "display_name": "Python 3",
   "language": "python",
   "name": "python3"
  },
  "language_info": {
   "codemirror_mode": {
    "name": "ipython",
    "version": 3
   },
   "file_extension": ".py",
   "mimetype": "text/x-python",
   "name": "python",
   "nbconvert_exporter": "python",
   "pygments_lexer": "ipython3",
   "version": "3.8.3"
  }
 },
 "nbformat": 4,
 "nbformat_minor": 4
}
